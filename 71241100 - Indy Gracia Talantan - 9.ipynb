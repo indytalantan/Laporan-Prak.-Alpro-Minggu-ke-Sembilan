{
 "cells": [
  {
   "cell_type": "code",
   "execution_count": 1,
   "id": "8759f369-cf0e-4360-8552-bff69da7a5a7",
   "metadata": {},
   "outputs": [
    {
     "name": "stdin",
     "output_type": "stream",
     "text": [
      "Masukkan Kata Awal:  mata\n",
      "Masukkan kata kedua:  atam\n"
     ]
    },
    {
     "name": "stdout",
     "output_type": "stream",
     "text": [
      "'mata' dan 'atam' merupakan permainan kata (anagram)\n"
     ]
    }
   ],
   "source": [
    "#LATIHAN 8.1\n",
    "def permainan_kata(kata_awal, kata_kedua):\n",
    "    kata_awal = ''.join([c.lower() for c in kata_awal if c.isalpha()])\n",
    "    kata_kedua = ''.join([c.lower() for c in kata_kedua if c.isalpha()])\n",
    "    \n",
    "    if len(kata_awal) != len(kata_kedua):\n",
    "        return False\n",
    "    \n",
    "    return sorted(kata_awal) == sorted(kata_kedua)\n",
    "\n",
    "kata_awal = input(\"Masukkan Kata Awal: \")\n",
    "kata_kedua = input(\"Masukkan kata kedua: \")\n",
    "\n",
    "if permainan_kata(kata_awal, kata_kedua):\n",
    "    print(f\"'{kata_awal}' dan '{kata_kedua}' merupakan permainan kata (anagram)\")\n",
    "else:\n",
    "    print(f\"'{kata_awal}' dan '{kata_kedua}' bukanlah permainan kata (anagram)\")"
   ]
  },
  {
   "cell_type": "code",
   "execution_count": 3,
   "id": "d578d49b-1e35-465a-879e-2dc4965fdabc",
   "metadata": {},
   "outputs": [
    {
     "name": "stdout",
     "output_type": "stream",
     "text": [
      "Kata 'makan' muncul 3 kali dalam kalimat\n"
     ]
    }
   ],
   "source": [
    "#LATIHAN 8.2\n",
    "def perhitungan_kemunculan(setiap_kalimat, kata_yang_dibutuh):\n",
    "    setiap_kalimat = setiap_kalimat.lower()\n",
    "    kata_yang_dibutuh = kata_yang_dibutuh.lower()\n",
    "    \n",
    "    kalimat_bersihnya = ''.join([c if c.isalpha() or c.isspace() else ' ' for c in setiap_kalimat])\n",
    "    \n",
    "    kata_katanya = kalimat_bersihnya.split()\n",
    "    \n",
    "    perhitungan_frekuensi = kata_katanya.count(kata_yang_dibutuh)\n",
    "    \n",
    "    return perhitungan_frekuensi\n",
    "\n",
    "setiap_kalimat = \"Saya mau makan. Makan itu wajib. Mau siang atau malam saya wajib makan\"\n",
    "kata_yang_dibutuh = \"makan\"\n",
    "\n",
    "total_keseluruhan = perhitungan_kemunculan(setiap_kalimat, kata_yang_dibutuh)\n",
    "print(f\"Kata '{kata_yang_dibutuh}' muncul {total_keseluruhan} kali dalam kalimat\")"
   ]
  },
  {
   "cell_type": "code",
   "execution_count": 5,
   "id": "8b805772-ea4a-4ebf-8223-5a48d43f2b5d",
   "metadata": {},
   "outputs": [
    {
     "name": "stdout",
     "output_type": "stream",
     "text": [
      "saya tidak suka memancing ikan\n"
     ]
    }
   ],
   "source": [
    "#LATIHAN 8.3\n",
    "def bersihkan_spasi(string):\n",
    "    string_bersih = ' '.join(string.split())\n",
    "    string_bersih = string_bersih.strip()\n",
    "    return string_bersih\n",
    "\n",
    "# Contoh input\n",
    "input_string = \"saya   tidak suka     memancing ikan \"\n",
    "\n",
    "hasil = bersihkan_spasi(input_string)\n",
    "print(hasil)"
   ]
  },
  {
   "cell_type": "code",
   "execution_count": 7,
   "id": "e38d9ec2-0aec-4dc1-a2a5-4463097f8a50",
   "metadata": {},
   "outputs": [
    {
     "name": "stdout",
     "output_type": "stream",
     "text": [
      "Kata Terpendek: a, Kata Terpanjang: snakes\n"
     ]
    }
   ],
   "source": [
    "#LATIHAN 8.4\n",
    "def panjang_or_pendek(kalimat):\n",
    "    data_perkata = kalimat.split()\n",
    "    kata_pendek = data_perkata[0]\n",
    "\n",
    "    for kata in data_perkata:\n",
    "        if len(kata) < len(kata_pendek):\n",
    "            kata_pendek = kata\n",
    "    kata_panjang = data_perkata[0]\n",
    "\n",
    "    for kata in data_perkata:\n",
    "        if len(kata) > len(kata_panjang):\n",
    "            kata_panjang = kata\n",
    "    return kata_pendek, kata_panjang\n",
    "\n",
    "# Contoh input\n",
    "kalimat_input = \"red snakes and a black frog in the pool\"\n",
    "kata_pendek, kata_panjang = panjang_or_pendek(kalimat_input)\n",
    "print(f\"Kata Terpendek: {kata_pendek}, Kata Terpanjang: {kata_panjang}\")"
   ]
  },
  {
   "cell_type": "code",
   "execution_count": 9,
   "id": "44bf94c0-af55-4569-9db9-6bc7d855d19d",
   "metadata": {},
   "outputs": [
    {
     "name": "stdout",
     "output_type": "stream",
     "text": [
      "1945-08-17 00:00:00 selisih 29108 hari\n",
      "1785-11-11 00:00:00 selisih 87460 hari\n",
      "1783-06-08 00:00:00 selisih 88347 hari\n",
      "1889-05-02 00:00:00 selisih 49668 hari\n"
     ]
    }
   ],
   "source": [
    "#LATIHAN 8.5\n",
    "import re\n",
    "from datetime import datetime\n",
    "\n",
    "def tanggal_selisih(teks):\n",
    "    pattern_nya = r'\\b\\d{4}-\\d{2}-\\d{2}\\b'\n",
    "    \n",
    "    list_untuk_tanggalnya = re.findall(pattern_nya, teks)\n",
    "    \n",
    "    untuk_hasilnya = []\n",
    "    \n",
    "    for date in list_untuk_tanggalnya:\n",
    "        in_year, in_mouth, in_day = date.split('-')\n",
    "        date_terbaru = f\"{in_day}-{in_mouth}-{in_year}\"\n",
    "        \n",
    "        tanggal = datetime.strptime(date, \"%Y-%m-%d\")\n",
    "        new_date = datetime.now()\n",
    "        selisih_hari = (new_date - tanggal).days\n",
    "        \n",
    "        untuk_hasilnya .append(f\"{date} 00:00:00 selisih {selisih_hari} hari\")\n",
    "    \n",
    "    return untuk_hasilnya \n",
    "\n",
    "teks = \"\"\"\n",
    "Pada tanggal 1945-08-17 Indonesia merdeka. Indonesia memiliki beberapa pahlawan nasional, seperti Pangeran Diponegoro (TL: 1785-11-11), Pattimura (TL: 1783-06-08) dan Ki Hajar Dewantara (1889-05-02).\n",
    "\"\"\"\n",
    "\n",
    "untuk_hasilnya  = tanggal_selisih(teks)\n",
    "\n",
    "for untuk_barisnya in untuk_hasilnya :\n",
    "    print(untuk_barisnya)"
   ]
  },
  {
   "cell_type": "code",
   "execution_count": 11,
   "id": "9c69f347-b79a-406d-b223-2d20c35c006c",
   "metadata": {},
   "outputs": [
    {
     "name": "stdout",
     "output_type": "stream",
     "text": [
      "anton@mail.com username: anton, kata_sandi: tVd3M5Br\n",
      "budid@gmail.co.id username: budid, kata_sandi: keWAhNHa\n",
      "slamet@getnada.com username: slamet, kata_sandi: nH7HMXXE\n",
      "matahari@tokopedia.com username: matahari, kata_sandi: MFseyOZH\n"
     ]
    }
   ],
   "source": [
    "#LATIHAN 8.6\n",
    "import re\n",
    "import random\n",
    "import string\n",
    "\n",
    "def password_randomnya(panjang = 8):\n",
    "    karakternya = string.ascii_letters + string.digits\n",
    "    kata_sandi = ''.join(random.choices(karakternya, k = panjang))\n",
    "    return kata_sandi\n",
    "\n",
    "def proses_dalam_email(text):\n",
    "    email_pattern = r'[a-zA-Z0-9._%+-]+@[a-zA-Z0-9.-]+\\.[a-zA-Z]{2,}'\n",
    "    email_nya = re.findall(email_pattern, text)\n",
    "    results = []\n",
    "    \n",
    "    for email in email_nya:\n",
    "        usernamenya = email.split('@')[0]\n",
    "        kata_sandi = password_randomnya()\n",
    "        results.append(f\"{email} username: {usernamenya}, kata_sandi: {kata_sandi}\")\n",
    "    \n",
    "    return results\n",
    "\n",
    "#Contohnya :\n",
    "text = \"\"\"\n",
    "anton@mail.com dimiliki oleh antonius\n",
    "budid@gmail.co.id dimiliki oleh budi anwari\n",
    "slamet@getnada.com dimiliki oleh slamet slumut\n",
    "matahari@tokopedia.com dimiliki oleh toko matahari\n",
    "\"\"\"\n",
    "\n",
    "results = proses_dalam_email(text)\n",
    "\n",
    "for result in results:\n",
    "    print(result)"
   ]
  }
 ],
 "metadata": {
  "kernelspec": {
   "display_name": "Python [conda env:base] *",
   "language": "python",
   "name": "conda-base-py"
  },
  "language_info": {
   "codemirror_mode": {
    "name": "ipython",
    "version": 3
   },
   "file_extension": ".py",
   "mimetype": "text/x-python",
   "name": "python",
   "nbconvert_exporter": "python",
   "pygments_lexer": "ipython3",
   "version": "3.12.7"
  }
 },
 "nbformat": 4,
 "nbformat_minor": 5
}
